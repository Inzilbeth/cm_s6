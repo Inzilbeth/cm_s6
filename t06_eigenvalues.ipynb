{
 "cells": [
  {
   "cell_type": "markdown",
   "id": "051d333b-0bf2-4dd9-99af-94b34f998a8f",
   "metadata": {},
   "source": [
    "# Задание 6.\n",
    "\n",
    "Реализовать метод Якоби поиска всех собственных чисел. Использовать две какие-либо стратегии выбора обнуляемого элемента.\n",
    "\n",
    "* Вычисления проводить до достижения точности ε.\n",
    "* Варьируя ε, скажем, от 1e−2 до 1e−5, изучить зависимость количества итераций от ε.\n",
    "* Обязательно протестировать на матрице Гильберта порядка > 5.\n",
    "* Выводить количество итераций.\n",
    "* По теореме Гершгорина определить область, в которую должны попадать с.ч. матрицы. Проверить, действительно ли найденные значения в область попали.\n",
    "\n",
    "**Отчёт:** https://docs.google.com/document/d/1pVpqy-vhAIXoyX4-ShPzU8mWzmb-adIHFzX2ZPZ9jgA/edit?usp=sharing"
   ]
  },
  {
   "cell_type": "markdown",
   "id": "2b592858-a430-4164-b399-0e1225f40c46",
   "metadata": {},
   "source": [
    "# Imports"
   ]
  },
  {
   "cell_type": "code",
   "execution_count": 1,
   "id": "f4e153a3-dea6-4855-924d-2e5be38c625a",
   "metadata": {},
   "outputs": [],
   "source": [
    "from collections import namedtuple\n",
    "from typing import Callable, Tuple\n",
    "from itertools import product\n",
    "from functools import reduce\n",
    "from math import sqrt\n",
    "\n",
    "import numpy as np\n",
    "import matplotlib.pyplot as plt\n",
    "import nbimporter\n",
    "\n",
    "from common import generate_hilberts_matrix_element, generate_tridiagonal_matrix_element"
   ]
  },
  {
   "cell_type": "markdown",
   "id": "17280a3b-0984-4f39-9c7f-b7b6a769995f",
   "metadata": {},
   "source": [
    "# Solution"
   ]
  },
  {
   "cell_type": "code",
   "execution_count": 2,
   "id": "ce751e87-7e8d-4404-a3e4-57c284109c7e",
   "metadata": {},
   "outputs": [],
   "source": [
    "EigenValues = namedtuple('EigenValues', ['eigen_values', 'iterations_count'])\n",
    "\n",
    "def is_hermitian(matrix: np.ndarray) -> bool:\n",
    "    \"\"\"Check if a matrix is Hermitian.\"\"\"\n",
    "    return np.allclose(matrix, matrix.conjugate().T)\n",
    "\n",
    "def find_eigen_values(A: np.ndarray, epsilon: float, max_iterations_count: int, get_element: Callable) -> EigenValues:\n",
    "    if not is_hermitian(A):\n",
    "        raise ValueError('Matrix A is not Hermitian.')\n",
    "\n",
    "    n = A.shape[0]\n",
    "    A_k = A.copy()\n",
    "    iterations_count = 0\n",
    "    i, j = 0, 0\n",
    "\n",
    "    while True:\n",
    "        i, j = get_element(A_k, i, j)\n",
    "        x, y = -2 * A_k[i, j], A_k[i, i] - A_k[j, j]\n",
    "        c = sqrt((1 + abs(y) / sqrt(x ** 2 + y ** 2)) / 2)\n",
    "        s = np.sign(x * y) * abs(x) / (2 * c * sqrt(x ** 2 + y ** 2))\n",
    "\n",
    "        T = np.eye(n)\n",
    "        T[i, i] = T[j, j] = c\n",
    "        T[i, j] = -s\n",
    "        T[j, i] = s\n",
    "\n",
    "        A_k = T @ A_k @ T.T\n",
    "        iterations_count += 1\n",
    "\n",
    "        off_diagonal_sum = np.sum(np.abs(A_k)) - np.sum(np.abs(np.diag(A_k)))\n",
    "        if off_diagonal_sum < epsilon:\n",
    "            break\n",
    "\n",
    "        if iterations_count > max_iterations_count:\n",
    "            raise ValueError(f'Result not found after {max_iterations_count} iterations.')\n",
    "\n",
    "    eigen_values = np.diag(A_k)\n",
    "    return EigenValues(eigen_values, iterations_count)\n",
    "\n",
    "def get_max_abs_element(A_k: np.ndarray, _: int, __: int) -> Tuple[int, int]:\n",
    "    n = A_k.shape[0]\n",
    "    i, j = np.unravel_index(np.argmax(np.abs(A_k - np.diag(np.diag(A_k)))), (n, n))\n",
    "    return i, j\n",
    "\n",
    "def get_cyclic_element(A_k: np.ndarray, i: int, j: int) -> Tuple[int, int]:\n",
    "    n = A_k.shape[0]\n",
    "\n",
    "    j += 1\n",
    "\n",
    "    if j >= n or i == j:\n",
    "        i += 1\n",
    "        j = 0\n",
    "\n",
    "        if i == j:\n",
    "            j += 1\n",
    "\n",
    "    if i >= n:\n",
    "        i, j = 0, 1\n",
    "\n",
    "    return i, j\n",
    "\n",
    "def find_eigen_values_first_method(A: np.ndarray, epsilon: float, max_iterations_count: int) -> EigenValues:\n",
    "    return find_eigen_values(A, epsilon, max_iterations_count, get_max_abs_element)\n",
    "\n",
    "def find_eigen_values_second_method(A: np.ndarray, epsilon: float, max_iterations_count: int) -> EigenValues:\n",
    "    return find_eigen_values(A, epsilon, max_iterations_count, get_cyclic_element)"
   ]
  },
  {
   "cell_type": "markdown",
   "id": "52b13347-28a0-4cf8-82c6-895f0291d9fd",
   "metadata": {},
   "source": [
    "# Tests"
   ]
  },
  {
   "cell_type": "code",
   "execution_count": 3,
   "id": "db62229a-2461-4f7f-82b3-08dd18d7bda1",
   "metadata": {},
   "outputs": [],
   "source": [
    "def generate_random_symmetric_matrix(size):\n",
    "    \"\"\"Generate a random symmetric matrix of given size.\"\"\"\n",
    "    A = np.random.rand(size, size)\n",
    "    return A + A.T\n",
    "\n",
    "def test_eigenvalue_methods_real_only():\n",
    "    num_matrices=1\n",
    "    matrix_size=5\n",
    "    epsilon=1e-5\n",
    "    max_iterations_count=1000\n",
    "    \n",
    "    for _ in range(num_matrices):\n",
    "        A = generate_random_symmetric_matrix(matrix_size)\n",
    "\n",
    "        eigen_values_first_method = find_eigen_values_first_method(A.copy(), epsilon, max_iterations_count).eigen_values\n",
    "        eigen_values_second_method = find_eigen_values_second_method(A.copy(), epsilon, max_iterations_count).eigen_values\n",
    "\n",
    "        eigen_values_numpy, _ = np.linalg.eigh(A)\n",
    "\n",
    "        eigen_values_first_method_sorted = np.copy(eigen_values_first_method)\n",
    "        eigen_values_second_method_sorted = np.copy(eigen_values_second_method)\n",
    "        \n",
    "        eigen_values_first_method_sorted.sort()\n",
    "        eigen_values_second_method_sorted.sort()\n",
    "        eigen_values_numpy.sort()\n",
    "        \n",
    "        assert np.allclose(eigen_values_first_method_sorted, eigen_values_numpy, atol=epsilon), \"First method failed\"\n",
    "        assert np.allclose(eigen_values_second_method_sorted, eigen_values_numpy.copy(), atol=epsilon), \"Second method failed\"\n",
    "\n",
    "test_eigenvalue_methods_real_only()"
   ]
  },
  {
   "cell_type": "markdown",
   "id": "40b38594-3b9c-4f04-9def-d10fcd7a8a13",
   "metadata": {},
   "source": [
    "# Experiments"
   ]
  },
  {
   "cell_type": "code",
   "execution_count": 4,
   "id": "4b37ec92-b89f-4123-999b-8147c40aaa87",
   "metadata": {},
   "outputs": [
    {
     "data": {
      "image/png": "[encoded data removed]",
      "text/plain": [
       "<Figure size 640x480 with 1 Axes>"
      ]
     },
     "metadata": {},
     "output_type": "display_data"
    }
   ],
   "source": [
    "def experiment_epsilon_variation(A: np.ndarray, epsilons: list, max_iterations_count: int, get_element: Callable, label: str) -> None:\n",
    "    iteration_counts = []\n",
    "\n",
    "    for epsilon in epsilons:\n",
    "        eigenvalues_result = find_eigen_values(A, epsilon, max_iterations_count, get_element)\n",
    "        iteration_counts.append(eigenvalues_result.iterations_count)\n",
    "\n",
    "    plt.plot(epsilons, iteration_counts, marker='o', label=label)\n",
    "\n",
    "A = np.random.rand(5, 5)\n",
    "A = A + A.T\n",
    "\n",
    "epsilons = [10**(-i) for i in range(2, 10)]\n",
    "\n",
    "experiment_epsilon_variation(A, epsilons, 1000, get_max_abs_element, \"Max Abs Element\")\n",
    "experiment_epsilon_variation(A, epsilons, 1000, get_cyclic_element, \"Cyclic Element\")\n",
    "\n",
    "plt.xscale('log')\n",
    "plt.xlabel('Epsilon')\n",
    "plt.ylabel('Number of Iterations')\n",
    "plt.title('Epsilon vs Iterations for Different Methods')\n",
    "plt.legend()\n",
    "plt.show()"
   ]
  },
  {
   "cell_type": "code",
   "execution_count": 5,
   "id": "0b733265-4b7b-4b86-b43f-de653c836073",
   "metadata": {},
   "outputs": [
    {
     "name": "stdout",
     "output_type": "stream",
     "text": [
      "Eigenvalues of Hilbert matrix, method 1: [1.56705069e+00 2.08534219e-01 3.05898013e-04 3.28795815e-06\n",
      " 1.14074916e-02]\n",
      "Iterations to calculate eigenvalues of Hilbert matrix, method 1: 24\n",
      "Eigenvalues of Hilbert matrix, method 2: [1.56705069e+00 2.08534219e-01 3.28794630e-06 1.14074916e-02\n",
      " 3.05898048e-04]\n",
      "Iterations to calculate eigenvalues of Hilbert matrix, method 2: 38\n",
      "Error in eigenvalues for method 1 (RMSE): 0.9962560670588136\n",
      "Error in eigenvalues for method 2 (RMSE): 0.9992672161301409\n"
     ]
    }
   ],
   "source": [
    "matrix_size = 5\n",
    "hilbert_matrix = np.array([[generate_hilberts_matrix_element(row, column) for column in range(matrix_size)] for row in range(matrix_size)])\n",
    "\n",
    "eigenvalues_result_first = find_eigen_values(hilbert_matrix, 1e-5, 1000, get_max_abs_element)\n",
    "eigenvalues_result_second = find_eigen_values(hilbert_matrix, 1e-5, 1000, get_cyclic_element)\n",
    "eigen_values_numpy, _ = np.linalg.eigh(hilbert_matrix)\n",
    "\n",
    "print(\"Eigenvalues of Hilbert matrix, method 1:\", eigenvalues_result_first.eigen_values)\n",
    "print(\"Iterations to calculate eigenvalues of Hilbert matrix, method 1:\", eigenvalues_result_first.iterations_count)\n",
    "\n",
    "print(\"Eigenvalues of Hilbert matrix, method 2:\", eigenvalues_result_second.eigen_values)\n",
    "print(\"Iterations to calculate eigenvalues of Hilbert matrix, method 2:\", eigenvalues_result_second.iterations_count)\n",
    "\n",
    "error_method1 = np.abs(eigenvalues_result_first.eigen_values - eigen_values_numpy)\n",
    "error_method2 = np.abs(eigenvalues_result_second.eigen_values - eigen_values_numpy)\n",
    "\n",
    "# Step 4: Aggregate Error (for example, using RMSE)\n",
    "rmse_method1 = np.sqrt(np.mean(error_method1**2))\n",
    "rmse_method2 = np.sqrt(np.mean(error_method2**2))\n",
    "\n",
    "# Print the errors\n",
    "print(\"Error in eigenvalues for method 1 (RMSE):\", rmse_method1)\n",
    "print(\"Error in eigenvalues for method 2 (RMSE):\", rmse_method2)"
   ]
  },
  {
   "cell_type": "code",
   "execution_count": 6,
   "id": "406dcb16-8122-4779-a1c0-f1093e8618f5",
   "metadata": {},
   "outputs": [
    {
     "name": "stdout",
     "output_type": "stream",
     "text": [
      "True, 24\n",
      "True, 38\n",
      "True, 27\n",
      "True, 49\n"
     ]
    }
   ],
   "source": [
    "epsilon = 1e-5\n",
    "max_iterations = 1000\n",
    "\n",
    "def gershgorin_circles(A: np.ndarray) -> Tuple[list, list]:\n",
    "    lower_bounds = []\n",
    "    upper_bounds = []\n",
    "\n",
    "    for i in range(A.shape[0]):\n",
    "        radius = sum(abs(A[i, j]) for j in range(A.shape[0]) if j != i)\n",
    "        lower_bounds.append(A[i, i] - radius)\n",
    "        upper_bounds.append(A[i, i] + radius)\n",
    "\n",
    "    return lower_bounds, upper_bounds\n",
    "\n",
    "def check_eigenvalues_within_bounds(eigenvalues: np.ndarray, lower_bounds: list, upper_bounds: list) -> None:\n",
    "    for eigenvalue in eigenvalues:\n",
    "        in_bounds = any(lower <= eigenvalue <= upper for lower, upper in zip(lower_bounds, upper_bounds))\n",
    "\n",
    "        if not in_bounds:\n",
    "            return False\n",
    "\n",
    "    return True\n",
    "\n",
    "hilbert_matrix = np.array([[generate_hilberts_matrix_element(row, column) for column in range(matrix_size)] for row in range(matrix_size)])\n",
    "A = np.random.rand(5, 5)\n",
    "A = A + A.T\n",
    "\n",
    "hilbert_result_first = find_eigen_values(hilbert_matrix, epsilon, max_iterations, get_max_abs_element)\n",
    "hilbert_result_second = find_eigen_values(hilbert_matrix, epsilon, max_iterations, get_cyclic_element)\n",
    "\n",
    "A_result_first = find_eigen_values(A, epsilon, max_iterations, get_max_abs_element)\n",
    "A_result_second = find_eigen_values(A, epsilon, max_iterations, get_cyclic_element)\n",
    "\n",
    "hilbert_lower_bounds, hilbert_upper_bounds = gershgorin_circles(hilbert_matrix)\n",
    "A_lower_bounds, A_upper_bounds = gershgorin_circles(A)\n",
    "\n",
    "print(f\"{check_eigenvalues_within_bounds(hilbert_result_first.eigen_values, hilbert_lower_bounds, hilbert_upper_bounds)}, {hilbert_result_first.iterations_count}\")\n",
    "print(f\"{check_eigenvalues_within_bounds(hilbert_result_second.eigen_values, hilbert_lower_bounds, hilbert_upper_bounds)}, {hilbert_result_second.iterations_count}\")\n",
    "print(f\"{check_eigenvalues_within_bounds(A_result_first.eigen_values, A_lower_bounds, A_upper_bounds)}, {A_result_first.iterations_count}\")\n",
    "print(f\"{check_eigenvalues_within_bounds(A_result_second.eigen_values, A_lower_bounds, A_upper_bounds)}, {A_result_second.iterations_count}\")"
   ]
  }
 ],
 "metadata": {
  "kernelspec": {
   "display_name": "Python 3 (ipykernel)",
   "language": "python",
   "name": "python3"
  },
  "language_info": {
   "codemirror_mode": {
    "name": "ipython",
    "version": 3
   },
   "file_extension": ".py",
   "mimetype": "text/x-python",
   "name": "python",
   "nbconvert_exporter": "python",
   "pygments_lexer": "ipython3",
   "version": "3.8.18"
  }
 },
 "nbformat": 4,
 "nbformat_minor": 5
}
