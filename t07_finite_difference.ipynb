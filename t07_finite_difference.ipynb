{
 "cells": [
  {
   "cell_type": "code",
   "execution_count": 1,
   "id": "f8332fab-64bf-4b70-8798-6ad674bd6cf5",
   "metadata": {},
   "outputs": [
    {
     "ename": "SyntaxError",
     "evalue": "invalid syntax (1820493267.py, line 1)",
     "output_type": "error",
     "traceback": [
      "\u001b[1;36m  Cell \u001b[1;32mIn[1], line 1\u001b[1;36m\u001b[0m\n\u001b[1;33m    Реализовать решение ОДУ сеточным методом.\u001b[0m\n\u001b[1;37m                ^\u001b[0m\n\u001b[1;31mSyntaxError\u001b[0m\u001b[1;31m:\u001b[0m invalid syntax\n"
     ]
    }
   ],
   "source": [
    "# Задание 7.\n",
    "\n",
    "Реализовать решение ОДУ сеточным методом.\n",
    "\n",
    "* Начинать вычисления с грубой сетки (примерно 10 интервалов); измельчать сетку и уточнять по Ричардсону. В идеале — до момента выхода на ошибки округления.\n",
    "* Отследить, какая точность (например, от 10e−2 до 10e−6) достигнута при каком шаге сетки.\n",
    "* Выводить полученное приближение. Можно на картинке."
   ]
  },
  {
   "cell_type": "code",
   "execution_count": null,
   "id": "ad4500d4-aa14-40dc-a50c-1a678e492009",
   "metadata": {},
   "outputs": [],
   "source": []
  },
  {
   "cell_type": "code",
   "execution_count": null,
   "id": "db8e4328-4af9-4ed6-ba3e-48217fff6311",
   "metadata": {},
   "outputs": [],
   "source": []
  }
 ],
 "metadata": {
  "kernelspec": {
   "display_name": "Python 3 (ipykernel)",
   "language": "python",
   "name": "python3"
  },
  "language_info": {
   "codemirror_mode": {
    "name": "ipython",
    "version": 3
   },
   "file_extension": ".py",
   "mimetype": "text/x-python",
   "name": "python",
   "nbconvert_exporter": "python",
   "pygments_lexer": "ipython3",
   "version": "3.8.18"
  }
 },
 "nbformat": 4,
 "nbformat_minor": 5
}
