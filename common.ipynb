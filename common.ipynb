{
 "cells": [
  {
   "cell_type": "markdown",
   "id": "b93cbc52-2188-41a3-aab6-fda20d2b0400",
   "metadata": {},
   "source": [
    "### Imports"
   ]
  },
  {
   "cell_type": "code",
   "execution_count": null,
   "id": "d7bbfba9-b4d1-4550-9fd7-10eb0e8e9dc8",
   "metadata": {},
   "outputs": [],
   "source": [
    "import random"
   ]
  },
  {
   "cell_type": "markdown",
   "id": "7d39f1e5-e8e8-429f-a36f-e5a1153869f7",
   "metadata": {},
   "source": [
    "### Common functions"
   ]
  },
  {
   "cell_type": "code",
   "execution_count": null,
   "id": "72f24873-e5c9-4d2a-9549-f77d16c50092",
   "metadata": {},
   "outputs": [],
   "source": [
    "def generate_hilberts_matrix_element(row, column):\n",
    "    return 1 / (row + column + 1)\n",
    "\n",
    "\n",
    "def generate_tridiagonal_matrix_element(row, column):\n",
    "    return random.randint(-1000, 1000) if abs(row - column) <= 1 else 0\n",
    "\n",
    "\n",
    "def generate_diagonal_dominance_matrix_element(row, column):\n",
    "    return random.randint(1000, 10000) if row == column else random.randint(-10, 10)"
   ]
  },
  {
   "cell_type": "code",
   "execution_count": null,
   "id": "9483f99a-f4d5-4372-a3d1-3f48d70c252c",
   "metadata": {},
   "outputs": [],
   "source": [
    "def is_close(val1, val2, epsilon):\n",
    "    if val1 == float('inf') and val2 == float('inf'):\n",
    "        return True\n",
    "    if val1 == -float('inf') and val2 == -float('inf'):\n",
    "        return True\n",
    "        \n",
    "    return abs(val1 - val2) < epsilon"
   ]
  }
 ],
 "metadata": {
  "kernelspec": {
   "display_name": "Python 3 (ipykernel)",
   "language": "python",
   "name": "python3"
  },
  "language_info": {
   "codemirror_mode": {
    "name": "ipython",
    "version": 3
   },
   "file_extension": ".py",
   "mimetype": "text/x-python",
   "name": "python",
   "nbconvert_exporter": "python",
   "pygments_lexer": "ipython3",
   "version": "3.8.18"
  }
 },
 "nbformat": 4,
 "nbformat_minor": 5
}
